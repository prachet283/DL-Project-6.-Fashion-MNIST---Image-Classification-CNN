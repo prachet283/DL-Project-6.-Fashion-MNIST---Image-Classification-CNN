{
  "nbformat": 4,
  "nbformat_minor": 0,
  "metadata": {
    "colab": {
      "provenance": [],
      "gpuType": "T4"
    },
    "kernelspec": {
      "name": "python3",
      "display_name": "Python 3"
    },
    "language_info": {
      "name": "python"
    },
    "accelerator": "GPU"
  },
  "cells": [
    {
      "cell_type": "markdown",
      "source": [
        "Seeding for Reproducibility"
      ],
      "metadata": {
        "id": "iQmvXA8diXYq"
      }
    },
    {
      "cell_type": "code",
      "execution_count": null,
      "metadata": {
        "id": "_NDZAFSjfaFi"
      },
      "outputs": [],
      "source": [
        "#set seeds for reproducibility\n",
        "\n",
        "import random\n",
        "import numpy as np\n",
        "import tensorflow as tf\n",
        "\n",
        "random.seed(0)\n",
        "np.random.seed(0)\n",
        "tf.random.set_seed(0)"
      ]
    },
    {
      "cell_type": "markdown",
      "source": [
        "Importing the dependencies"
      ],
      "metadata": {
        "id": "sR5QzT_5jO9U"
      }
    },
    {
      "cell_type": "code",
      "source": [
        "from tensorflow.keras import datasets, layers, models\n",
        "import matplotlib.pyplot as plt"
      ],
      "metadata": {
        "id": "rljutt-XjOQV"
      },
      "execution_count": null,
      "outputs": []
    },
    {
      "cell_type": "markdown",
      "source": [
        "Data Curation"
      ],
      "metadata": {
        "id": "C31YcZgGjZpR"
      }
    },
    {
      "cell_type": "code",
      "source": [
        "#load and prepare the fashion MNIST dataset\n",
        "\n",
        "fashion_data = datasets.fashion_mnist\n",
        "(train_images, train_labels), (test_images, test_labels) = fashion_data.load_data()"
      ],
      "metadata": {
        "colab": {
          "base_uri": "https://localhost:8080/"
        },
        "id": "Yq2q58yTjYHX",
        "outputId": "98d5805b-63ce-4a10-de28-3689271dbd5e"
      },
      "execution_count": null,
      "outputs": [
        {
          "output_type": "stream",
          "name": "stdout",
          "text": [
            "Downloading data from https://storage.googleapis.com/tensorflow/tf-keras-datasets/train-labels-idx1-ubyte.gz\n",
            "29515/29515 [==============================] - 0s 0us/step\n",
            "Downloading data from https://storage.googleapis.com/tensorflow/tf-keras-datasets/train-images-idx3-ubyte.gz\n",
            "26421880/26421880 [==============================] - 0s 0us/step\n",
            "Downloading data from https://storage.googleapis.com/tensorflow/tf-keras-datasets/t10k-labels-idx1-ubyte.gz\n",
            "5148/5148 [==============================] - 0s 0us/step\n",
            "Downloading data from https://storage.googleapis.com/tensorflow/tf-keras-datasets/t10k-images-idx3-ubyte.gz\n",
            "4422102/4422102 [==============================] - 0s 0us/step\n"
          ]
        }
      ]
    },
    {
      "cell_type": "markdown",
      "source": [
        "Data Preprocessing"
      ],
      "metadata": {
        "id": "yK6_1lxEj1Ul"
      }
    },
    {
      "cell_type": "code",
      "source": [
        "type(train_images)"
      ],
      "metadata": {
        "colab": {
          "base_uri": "https://localhost:8080/"
        },
        "id": "qUt1dXIAjqTY",
        "outputId": "d4319105-8468-4675-a3ad-5ed8d4a3aef9"
      },
      "execution_count": null,
      "outputs": [
        {
          "output_type": "execute_result",
          "data": {
            "text/plain": [
              "numpy.ndarray"
            ]
          },
          "metadata": {},
          "execution_count": 4
        }
      ]
    },
    {
      "cell_type": "code",
      "source": [
        "type(train_labels)"
      ],
      "metadata": {
        "colab": {
          "base_uri": "https://localhost:8080/"
        },
        "id": "qVnBswOqjz4k",
        "outputId": "53a157a8-98dc-4804-ac87-4c6e0e911246"
      },
      "execution_count": null,
      "outputs": [
        {
          "output_type": "execute_result",
          "data": {
            "text/plain": [
              "numpy.ndarray"
            ]
          },
          "metadata": {},
          "execution_count": 5
        }
      ]
    },
    {
      "cell_type": "code",
      "source": [
        "print(train_images.shape)\n",
        "print(train_labels.shape)"
      ],
      "metadata": {
        "colab": {
          "base_uri": "https://localhost:8080/"
        },
        "id": "nqgn3Qjdj_3x",
        "outputId": "4bf60405-3a5f-4188-f144-26e0bf574af8"
      },
      "execution_count": null,
      "outputs": [
        {
          "output_type": "stream",
          "name": "stdout",
          "text": [
            "(60000, 28, 28)\n",
            "(60000,)\n"
          ]
        }
      ]
    },
    {
      "cell_type": "code",
      "source": [
        "print(train_images[0])"
      ],
      "metadata": {
        "colab": {
          "base_uri": "https://localhost:8080/"
        },
        "id": "D1qGaRcXkEFk",
        "outputId": "92c76fe3-732e-4f2a-a480-24b5efb12b9c"
      },
      "execution_count": null,
      "outputs": [
        {
          "output_type": "stream",
          "name": "stdout",
          "text": [
            "[[  0   0   0   0   0   0   0   0   0   0   0   0   0   0   0   0   0   0\n",
            "    0   0   0   0   0   0   0   0   0   0]\n",
            " [  0   0   0   0   0   0   0   0   0   0   0   0   0   0   0   0   0   0\n",
            "    0   0   0   0   0   0   0   0   0   0]\n",
            " [  0   0   0   0   0   0   0   0   0   0   0   0   0   0   0   0   0   0\n",
            "    0   0   0   0   0   0   0   0   0   0]\n",
            " [  0   0   0   0   0   0   0   0   0   0   0   0   1   0   0  13  73   0\n",
            "    0   1   4   0   0   0   0   1   1   0]\n",
            " [  0   0   0   0   0   0   0   0   0   0   0   0   3   0  36 136 127  62\n",
            "   54   0   0   0   1   3   4   0   0   3]\n",
            " [  0   0   0   0   0   0   0   0   0   0   0   0   6   0 102 204 176 134\n",
            "  144 123  23   0   0   0   0  12  10   0]\n",
            " [  0   0   0   0   0   0   0   0   0   0   0   0   0   0 155 236 207 178\n",
            "  107 156 161 109  64  23  77 130  72  15]\n",
            " [  0   0   0   0   0   0   0   0   0   0   0   1   0  69 207 223 218 216\n",
            "  216 163 127 121 122 146 141  88 172  66]\n",
            " [  0   0   0   0   0   0   0   0   0   1   1   1   0 200 232 232 233 229\n",
            "  223 223 215 213 164 127 123 196 229   0]\n",
            " [  0   0   0   0   0   0   0   0   0   0   0   0   0 183 225 216 223 228\n",
            "  235 227 224 222 224 221 223 245 173   0]\n",
            " [  0   0   0   0   0   0   0   0   0   0   0   0   0 193 228 218 213 198\n",
            "  180 212 210 211 213 223 220 243 202   0]\n",
            " [  0   0   0   0   0   0   0   0   0   1   3   0  12 219 220 212 218 192\n",
            "  169 227 208 218 224 212 226 197 209  52]\n",
            " [  0   0   0   0   0   0   0   0   0   0   6   0  99 244 222 220 218 203\n",
            "  198 221 215 213 222 220 245 119 167  56]\n",
            " [  0   0   0   0   0   0   0   0   0   4   0   0  55 236 228 230 228 240\n",
            "  232 213 218 223 234 217 217 209  92   0]\n",
            " [  0   0   1   4   6   7   2   0   0   0   0   0 237 226 217 223 222 219\n",
            "  222 221 216 223 229 215 218 255  77   0]\n",
            " [  0   3   0   0   0   0   0   0   0  62 145 204 228 207 213 221 218 208\n",
            "  211 218 224 223 219 215 224 244 159   0]\n",
            " [  0   0   0   0  18  44  82 107 189 228 220 222 217 226 200 205 211 230\n",
            "  224 234 176 188 250 248 233 238 215   0]\n",
            " [  0  57 187 208 224 221 224 208 204 214 208 209 200 159 245 193 206 223\n",
            "  255 255 221 234 221 211 220 232 246   0]\n",
            " [  3 202 228 224 221 211 211 214 205 205 205 220 240  80 150 255 229 221\n",
            "  188 154 191 210 204 209 222 228 225   0]\n",
            " [ 98 233 198 210 222 229 229 234 249 220 194 215 217 241  65  73 106 117\n",
            "  168 219 221 215 217 223 223 224 229  29]\n",
            " [ 75 204 212 204 193 205 211 225 216 185 197 206 198 213 240 195 227 245\n",
            "  239 223 218 212 209 222 220 221 230  67]\n",
            " [ 48 203 183 194 213 197 185 190 194 192 202 214 219 221 220 236 225 216\n",
            "  199 206 186 181 177 172 181 205 206 115]\n",
            " [  0 122 219 193 179 171 183 196 204 210 213 207 211 210 200 196 194 191\n",
            "  195 191 198 192 176 156 167 177 210  92]\n",
            " [  0   0  74 189 212 191 175 172 175 181 185 188 189 188 193 198 204 209\n",
            "  210 210 211 188 188 194 192 216 170   0]\n",
            " [  2   0   0   0  66 200 222 237 239 242 246 243 244 221 220 193 191 179\n",
            "  182 182 181 176 166 168  99  58   0   0]\n",
            " [  0   0   0   0   0   0   0  40  61  44  72  41  35   0   0   0   0   0\n",
            "    0   0   0   0   0   0   0   0   0   0]\n",
            " [  0   0   0   0   0   0   0   0   0   0   0   0   0   0   0   0   0   0\n",
            "    0   0   0   0   0   0   0   0   0   0]\n",
            " [  0   0   0   0   0   0   0   0   0   0   0   0   0   0   0   0   0   0\n",
            "    0   0   0   0   0   0   0   0   0   0]]\n"
          ]
        }
      ]
    },
    {
      "cell_type": "code",
      "source": [
        "print(train_images[0].shape)  #gray scale images"
      ],
      "metadata": {
        "colab": {
          "base_uri": "https://localhost:8080/"
        },
        "id": "YbYxC0A3kqKX",
        "outputId": "2d25e354-b2b1-418e-e677-3e24a8394fef"
      },
      "execution_count": null,
      "outputs": [
        {
          "output_type": "stream",
          "name": "stdout",
          "text": [
            "(28, 28)\n"
          ]
        }
      ]
    },
    {
      "cell_type": "code",
      "source": [
        "print(test_images.shape)\n",
        "print(test_labels.shape)"
      ],
      "metadata": {
        "colab": {
          "base_uri": "https://localhost:8080/"
        },
        "id": "HvYx6SRAn3kg",
        "outputId": "7e649c56-efb5-42b3-e386-230acbb28d74"
      },
      "execution_count": null,
      "outputs": [
        {
          "output_type": "stream",
          "name": "stdout",
          "text": [
            "(10000, 28, 28)\n",
            "(10000,)\n"
          ]
        }
      ]
    },
    {
      "cell_type": "code",
      "source": [
        "#diaplaying the image from the dataset\n",
        "\n",
        "plt.imshow(train_images[0],cmap='gray')\n",
        "plt.show()"
      ],
      "metadata": {
        "colab": {
          "base_uri": "https://localhost:8080/",
          "height": 430
        },
        "id": "nyKEY5pak6TG",
        "outputId": "c2991e1f-e5a2-4739-abbe-feba8a2058b0"
      },
      "execution_count": null,
      "outputs": [
        {
          "output_type": "display_data",
          "data": {
            "text/plain": [
              "<Figure size 640x480 with 1 Axes>"
            ],
            "image/png": "[encoded data removed]"
          },
          "metadata": {}
        }
      ]
    },
    {
      "cell_type": "code",
      "source": [
        "print(train_labels[0])"
      ],
      "metadata": {
        "colab": {
          "base_uri": "https://localhost:8080/"
        },
        "id": "_3l-KeiqlSBU",
        "outputId": "15b7a4c4-8342-4cd4-f2c0-2e392989fc1c"
      },
      "execution_count": null,
      "outputs": [
        {
          "output_type": "stream",
          "name": "stdout",
          "text": [
            "9\n"
          ]
        }
      ]
    },
    {
      "cell_type": "code",
      "source": [
        "#checking unique values in train labels\n",
        "\n",
        "np.unique(train_labels)"
      ],
      "metadata": {
        "colab": {
          "base_uri": "https://localhost:8080/"
        },
        "id": "UTZcS-CDl6NH",
        "outputId": "e12b799f-d0e2-4a6d-e1a9-5a2e6dd66365"
      },
      "execution_count": null,
      "outputs": [
        {
          "output_type": "execute_result",
          "data": {
            "text/plain": [
              "array([0, 1, 2, 3, 4, 5, 6, 7, 8, 9], dtype=uint8)"
            ]
          },
          "metadata": {},
          "execution_count": 12
        }
      ]
    },
    {
      "cell_type": "markdown",
      "source": [
        "0 --> T-shirt,\n",
        "\n",
        "1 --> Trouser,\n",
        "\n",
        "2 --> Pullover,\n",
        "\n",
        "3 --> Dress,\n",
        "\n",
        "4 --> Coat,\n",
        "\n",
        "5 --> Sandal,\n",
        "\n",
        "6 --> Shirt,\n",
        "\n",
        "7 --> Sneaker,\n",
        "\n",
        "8 --> Bag,\n",
        "\n",
        "9 --> Ankle boot"
      ],
      "metadata": {
        "id": "xD-Y1GpWm1vz"
      }
    },
    {
      "cell_type": "code",
      "source": [
        "#Normalizing the pixel values\n",
        "train_images = train_images / 255.0\n",
        "test_images = test_images / 255."
      ],
      "metadata": {
        "id": "8k7x3M6Cl-1m"
      },
      "execution_count": null,
      "outputs": []
    },
    {
      "cell_type": "code",
      "source": [
        "#reshape images to specify that its a signal channel (grayscale)\n",
        "train_images = train_images.reshape((train_images.shape[0], 28, 28, 1))\n",
        "test_images = test_images.reshape((test_images.shape[0], 28, 28, 1))\n"
      ],
      "metadata": {
        "id": "eozDKVNgnhMz"
      },
      "execution_count": null,
      "outputs": []
    },
    {
      "cell_type": "code",
      "source": [
        "print(train_images.shape,test_images.shape)"
      ],
      "metadata": {
        "colab": {
          "base_uri": "https://localhost:8080/"
        },
        "id": "f3k7xtSuoNE-",
        "outputId": "5a2d7bbd-f0f4-47eb-e202-a7709352827e"
      },
      "execution_count": null,
      "outputs": [
        {
          "output_type": "stream",
          "name": "stdout",
          "text": [
            "(60000, 28, 28, 1) (10000, 28, 28, 1)\n"
          ]
        }
      ]
    },
    {
      "cell_type": "markdown",
      "source": [
        "CNN"
      ],
      "metadata": {
        "id": "L52yO0ogoYYQ"
      }
    },
    {
      "cell_type": "code",
      "source": [
        "# build the convolutional base\n",
        "model = models.Sequential()\n",
        "model.add(layers.Conv2D(32, (3, 3), activation='relu', input_shape=(28, 28, 1)))\n",
        "model.add(layers.MaxPooling2D((2, 2)))\n",
        "model.add(layers.Conv2D(64, (3, 3), activation='relu'))\n",
        "model.add(layers.MaxPooling2D((2, 2)))\n",
        "model.add(layers.Conv2D(64, (3, 3), activation='relu'))\n",
        "\n",
        "#Add Dense layers on top\n",
        "model.add(layers.Flatten())\n",
        "model.add(layers.Dense(64, activation='relu'))\n",
        "model.add(layers.Dense(10))"
      ],
      "metadata": {
        "id": "_QHJ5H42oO-u"
      },
      "execution_count": null,
      "outputs": []
    },
    {
      "cell_type": "code",
      "source": [
        "#Compiling the model\n",
        "model.compile(optimizer='adam',loss=tf.keras.losses.SparseCategoricalCrossentropy(from_logits=True),metrics=['accuracy'])"
      ],
      "metadata": {
        "id": "Zu704NMqqT_W"
      },
      "execution_count": null,
      "outputs": []
    },
    {
      "cell_type": "markdown",
      "source": [
        "Model Training"
      ],
      "metadata": {
        "id": "aTDAWwgxquLN"
      }
    },
    {
      "cell_type": "code",
      "source": [
        "history = model.fit(train_images, train_labels, epochs=10, validation_data=(test_images, test_labels))"
      ],
      "metadata": {
        "colab": {
          "base_uri": "https://localhost:8080/"
        },
        "id": "oN_w7SGmqk1J",
        "outputId": "db03bf1c-4f39-422b-ee9b-7f3ccd1ee5f1"
      },
      "execution_count": null,
      "outputs": [
        {
          "output_type": "stream",
          "name": "stdout",
          "text": [
            "Epoch 1/10\n",
            "1875/1875 [==============================] - 72s 38ms/step - loss: 0.4907 - accuracy: 0.8210 - val_loss: 0.3626 - val_accuracy: 0.8695\n",
            "Epoch 2/10\n",
            "1875/1875 [==============================] - 78s 42ms/step - loss: 0.3189 - accuracy: 0.8832 - val_loss: 0.3146 - val_accuracy: 0.8878\n",
            "Epoch 3/10\n",
            "1875/1875 [==============================] - 71s 38ms/step - loss: 0.2716 - accuracy: 0.8998 - val_loss: 0.2879 - val_accuracy: 0.8974\n",
            "Epoch 4/10\n",
            "1875/1875 [==============================] - 61s 32ms/step - loss: 0.2415 - accuracy: 0.9100 - val_loss: 0.2782 - val_accuracy: 0.8973\n",
            "Epoch 5/10\n",
            "1875/1875 [==============================] - 58s 31ms/step - loss: 0.2177 - accuracy: 0.9190 - val_loss: 0.2720 - val_accuracy: 0.9016\n",
            "Epoch 6/10\n",
            "1875/1875 [==============================] - 71s 38ms/step - loss: 0.1958 - accuracy: 0.9273 - val_loss: 0.2583 - val_accuracy: 0.9074\n",
            "Epoch 7/10\n",
            "1875/1875 [==============================] - 61s 33ms/step - loss: 0.1803 - accuracy: 0.9336 - val_loss: 0.2770 - val_accuracy: 0.9042\n",
            "Epoch 8/10\n",
            "1875/1875 [==============================] - 60s 32ms/step - loss: 0.1660 - accuracy: 0.9380 - val_loss: 0.2606 - val_accuracy: 0.9103\n",
            "Epoch 9/10\n",
            "1875/1875 [==============================] - 63s 34ms/step - loss: 0.1509 - accuracy: 0.9428 - val_loss: 0.2782 - val_accuracy: 0.9076\n",
            "Epoch 10/10\n",
            "1875/1875 [==============================] - 65s 35ms/step - loss: 0.1387 - accuracy: 0.9468 - val_loss: 0.2693 - val_accuracy: 0.9083\n"
          ]
        }
      ]
    },
    {
      "cell_type": "markdown",
      "source": [
        "Model Evaluation"
      ],
      "metadata": {
        "id": "n_1iCqYBsGrN"
      }
    },
    {
      "cell_type": "code",
      "source": [
        "#Evaluate the model\n",
        "test_loss, test_acc = model.evaluate(test_images, test_labels, verbose=2)\n",
        "print('\\nTest Accuracy:', test_acc)"
      ],
      "metadata": {
        "colab": {
          "base_uri": "https://localhost:8080/"
        },
        "id": "0SD_n4AnrsrM",
        "outputId": "363afb2e-16bf-442d-a6a4-480d239549dd"
      },
      "execution_count": null,
      "outputs": [
        {
          "output_type": "stream",
          "name": "stdout",
          "text": [
            "313/313 - 2s - loss: 0.2693 - accuracy: 0.9083 - 2s/epoch - 8ms/step\n",
            "\n",
            "Test Accuracy: 0.90829998254776\n"
          ]
        }
      ]
    },
    {
      "cell_type": "code",
      "source": [
        "#Plot training & validation accuracy values\n",
        "\n",
        "plt.plot(history.history['accuracy'])\n",
        "plt.plot(history.history['val_accuracy'])\n",
        "plt.title('Model accuracy')\n",
        "plt.ylabel('Accuracy')\n",
        "plt.xlabel('Epoch')\n",
        "plt.legend(['Train', 'Test'], loc='upper left')\n",
        "plt.show()\n",
        "\n",
        "#Plot training & validation loss values\n",
        "plt.plot(history.history['loss'])\n",
        "plt.plot(history.history['val_loss'])\n",
        "plt.title('Model loss')\n",
        "plt.ylabel('Loss')\n",
        "plt.xlabel('Epoch')\n",
        "plt.legend(['Train', 'Test'], loc='upper left')\n",
        "plt.show()"
      ],
      "metadata": {
        "colab": {
          "base_uri": "https://localhost:8080/",
          "height": 927
        },
        "id": "VBEDIsMTsU0K",
        "outputId": "d69b2905-468b-455f-ecc7-57f19581beff"
      },
      "execution_count": null,
      "outputs": [
        {
          "output_type": "display_data",
          "data": {
            "text/plain": [
              "<Figure size 640x480 with 1 Axes>"
            ],
            "image/png": "[encoded data removed]"
          },
          "metadata": {}
        },
        {
          "output_type": "display_data",
          "data": {
            "text/plain": [
              "<Figure size 640x480 with 1 Axes>"
            ],
            "image/png": "[encoded data removed]"
          },
          "metadata": {}
        }
      ]
    },
    {
      "cell_type": "code",
      "source": [],
      "metadata": {
        "id": "ZApqHJotZJN4"
      },
      "execution_count": null,
      "outputs": []
    },
    {
      "cell_type": "code",
      "source": [
        "model.save('trained_model_fashion_mnist.h5')"
      ],
      "metadata": {
        "colab": {
          "base_uri": "https://localhost:8080/"
        },
        "id": "mSzGEgodtK-B",
        "outputId": "9c5dd813-84fb-4a3d-a9ca-8cdb48da0446"
      },
      "execution_count": null,
      "outputs": [
        {
          "output_type": "stream",
          "name": "stderr",
          "text": [
            "/usr/local/lib/python3.10/dist-packages/keras/src/engine/training.py:3103: UserWarning: You are saving your model as an HDF5 file via `model.save()`. This file format is considered legacy. We recommend using instead the native Keras format, e.g. `model.save('my_model.keras')`.\n",
            "  saving_api.save_model(\n"
          ]
        }
      ]
    },
    {
      "cell_type": "markdown",
      "source": [
        "Making A Predictive System"
      ],
      "metadata": {
        "id": "XQ5A4vgPfT_v"
      }
    },
    {
      "cell_type": "code",
      "source": [
        "from PIL import Image\n",
        "input_img_path = input('Path of the image to be predicted : ')\n",
        "image = Image.open(input_img_path)\n",
        "plt.imshow(image,cmap='gray')\n",
        "plt.show()\n",
        "img = image.resize((28, 28))\n",
        "img = img.convert('L')  # Convert to grayscale\n",
        "img_array = np.array(img) / 255.0\n",
        "img_array = img_array.reshape((1, 28, 28, 1))\n",
        "\n",
        "input_prediction = model.predict(img_array)\n",
        "print(input_prediction)\n",
        "\n",
        "input_pred_label = np.argmax(input_prediction)\n",
        "print(input_pred_label)\n",
        "\n",
        "if input_pred_label == 0:\n",
        "  print(\"The image is of T-shirt\")\n",
        "elif input_pred_label == 1:\n",
        "  print(\"The image is of Trouser\")\n",
        "elif input_pred_label == 2:\n",
        "  print(\"The image is of Pullover\")\n",
        "elif input_pred_label == 3:\n",
        "  print(\"The image is of Dress\")\n",
        "elif input_pred_label == 4:\n",
        "  print(\"The image is of Coat\")\n",
        "elif input_pred_label == 5:\n",
        "  print(\"The image is of Sandal\")\n",
        "elif input_pred_label == 6:\n",
        "  print(\"The image is of Shirt\")\n",
        "elif input_pred_label == 7:\n",
        "  print(\"The image is of Sneaker\")\n",
        "elif input_pred_label == 8:\n",
        "  print(\"The image is of Bag\")\n",
        "elif input_pred_label == 9:\n",
        "  print(\"The image is of Ankle boot\")"
      ],
      "metadata": {
        "id": "RP6tf-SMSUHp",
        "colab": {
          "base_uri": "https://localhost:8080/",
          "height": 544
        },
        "outputId": "2709d595-d24c-490d-d27b-55ce486ceb19"
      },
      "execution_count": null,
      "outputs": [
        {
          "name": "stdout",
          "output_type": "stream",
          "text": [
            "Path of the image to be predicted : /content/download (4).jpeg\n"
          ]
        },
        {
          "output_type": "display_data",
          "data": {
            "text/plain": [
              "<Figure size 640x480 with 1 Axes>"
            ],
            "image/png": "[encoded data removed]"
          },
          "metadata": {}
        },
        {
          "output_type": "stream",
          "name": "stdout",
          "text": [
            "1/1 [==============================] - 0s 22ms/step\n",
            "[[  3.147254    -9.141776     6.6316533   -9.670377    -0.99925935\n",
            "  -15.606732     5.9577026  -16.34263     -3.9290624  -12.332949  ]]\n",
            "2\n",
            "The image is of Pullover\n"
          ]
        }
      ]
    },
    {
      "cell_type": "code",
      "source": [],
      "metadata": {
        "id": "0kOB2KHvSXXE"
      },
      "execution_count": null,
      "outputs": []
    }
  ]
}